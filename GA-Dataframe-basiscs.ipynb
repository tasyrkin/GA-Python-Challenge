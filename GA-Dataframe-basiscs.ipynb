{
 "cells": [
  {
   "cell_type": "code",
   "execution_count": 1,
   "id": "encouraging-ireland",
   "metadata": {},
   "outputs": [],
   "source": [
    "# NOTE: this notebook uses python3 (version 3.9.1)\n",
    "\n",
    "import pandas as pd\n",
    "\n",
    "# pandas provide a dataframe abstraction to help analyzing tabular data"
   ]
  },
  {
   "cell_type": "code",
   "execution_count": 2,
   "id": "married-creator",
   "metadata": {},
   "outputs": [
    {
     "data": {
      "text/html": [
       "<div>\n",
       "<style scoped>\n",
       "    .dataframe tbody tr th:only-of-type {\n",
       "        vertical-align: middle;\n",
       "    }\n",
       "\n",
       "    .dataframe tbody tr th {\n",
       "        vertical-align: top;\n",
       "    }\n",
       "\n",
       "    .dataframe thead th {\n",
       "        text-align: right;\n",
       "    }\n",
       "</style>\n",
       "<table border=\"1\" class=\"dataframe\">\n",
       "  <thead>\n",
       "    <tr style=\"text-align: right;\">\n",
       "      <th></th>\n",
       "      <th>star_rating</th>\n",
       "      <th>title</th>\n",
       "      <th>year</th>\n",
       "      <th>content_rating</th>\n",
       "      <th>genre</th>\n",
       "      <th>duration</th>\n",
       "      <th>gross</th>\n",
       "    </tr>\n",
       "  </thead>\n",
       "  <tbody>\n",
       "    <tr>\n",
       "      <th>0</th>\n",
       "      <td>9.3</td>\n",
       "      <td>The Shawshank Redemption</td>\n",
       "      <td>1994</td>\n",
       "      <td>R</td>\n",
       "      <td>Drama</td>\n",
       "      <td>142</td>\n",
       "      <td>1963330</td>\n",
       "    </tr>\n",
       "    <tr>\n",
       "      <th>1</th>\n",
       "      <td>9.2</td>\n",
       "      <td>The Godfather</td>\n",
       "      <td>1972</td>\n",
       "      <td>R</td>\n",
       "      <td>Crime</td>\n",
       "      <td>175</td>\n",
       "      <td>28341469</td>\n",
       "    </tr>\n",
       "    <tr>\n",
       "      <th>2</th>\n",
       "      <td>9.0</td>\n",
       "      <td>The Dark Knight</td>\n",
       "      <td>2008</td>\n",
       "      <td>PG-13</td>\n",
       "      <td>Action</td>\n",
       "      <td>152</td>\n",
       "      <td>1344258</td>\n",
       "    </tr>\n",
       "    <tr>\n",
       "      <th>3</th>\n",
       "      <td>9.0</td>\n",
       "      <td>The Godfather: Part II</td>\n",
       "      <td>1974</td>\n",
       "      <td>R</td>\n",
       "      <td>Crime</td>\n",
       "      <td>202</td>\n",
       "      <td>134966411</td>\n",
       "    </tr>\n",
       "    <tr>\n",
       "      <th>4</th>\n",
       "      <td>8.9</td>\n",
       "      <td>Pulp Fiction</td>\n",
       "      <td>1994</td>\n",
       "      <td>R</td>\n",
       "      <td>Crime</td>\n",
       "      <td>154</td>\n",
       "      <td>1935047</td>\n",
       "    </tr>\n",
       "  </tbody>\n",
       "</table>\n",
       "</div>"
      ],
      "text/plain": [
       "   star_rating                     title  year content_rating  \\\n",
       "0          9.3  The Shawshank Redemption  1994              R   \n",
       "1          9.2             The Godfather  1972              R   \n",
       "2          9.0           The Dark Knight  2008          PG-13   \n",
       "3          9.0    The Godfather: Part II  1974              R   \n",
       "4          8.9              Pulp Fiction  1994              R   \n",
       "\n",
       "               genre  duration      gross  \n",
       "0  Drama                   142    1963330  \n",
       "1              Crime       175   28341469  \n",
       "2             Action       152    1344258  \n",
       "3              Crime       202  134966411  \n",
       "4              Crime       154    1935047  "
      ]
     },
     "execution_count": 2,
     "metadata": {},
     "output_type": "execute_result"
    }
   ],
   "source": [
    "\n",
    "# Housekeeping: find out what is the current directory and adjust the path to the data file\n",
    "#import os\n",
    "#cwd = os.getcwd()\n",
    "#print ('working_directory = ' + cwd)\n",
    "\n",
    "# load data into the pandas dataframe (df)\n",
    "df = pd.read_csv(\"imdb_100.csv\")\n",
    "\n",
    "# get sense of a data in the df\n",
    "df.head()"
   ]
  },
  {
   "cell_type": "code",
   "execution_count": 3,
   "id": "every-looking",
   "metadata": {},
   "outputs": [
    {
     "name": "stdout",
     "output_type": "stream",
     "text": [
      "num_rows = 100, num_cols = 7\n"
     ]
    }
   ],
   "source": [
    "# How many rows and columns are in the dataset?\n",
    "\n",
    "# every panda's dataframe has a 'shape' property. A 'shape' is a tuple representing the dimensionality of the dataframe.\n",
    "# the first element is the number of rows\n",
    "# the second element is the number of columns\n",
    "\n",
    "num_rows = df.shape[0]\n",
    "num_cols = df.shape[1]\n",
    "print ('num_rows = {}, num_cols = {}'.format(num_rows, num_cols))"
   ]
  },
  {
   "cell_type": "code",
   "execution_count": 4,
   "id": "regulation-metadata",
   "metadata": {},
   "outputs": [
    {
     "name": "stdout",
     "output_type": "stream",
     "text": [
      "column_names = ['star_rating', 'title', 'year', 'content_rating', 'genre', 'duration', 'gross']\n"
     ]
    }
   ],
   "source": [
    "# What are the column names?\n",
    "\n",
    "# a dataframe has a 'columns' property that contains the names of the df's columns\n",
    "\n",
    "print ('column_names = {}'.format(list(df.columns)))"
   ]
  },
  {
   "cell_type": "code",
   "execution_count": 5,
   "id": "extraordinary-significance",
   "metadata": {},
   "outputs": [
    {
     "name": "stdout",
     "output_type": "stream",
     "text": [
      "unique_genres = 12\n"
     ]
    }
   ],
   "source": [
    "# How many unique genres are there?\n",
    "\n",
    "# it is possible to access every column through its name (very handy) \n",
    "# and apply functions against this column \n",
    "# including 'unique()' function that counts the number of unique values in that column\n",
    "\n",
    "print ('unique_genres = {}'.format(len(df.genre.unique())))"
   ]
  },
  {
   "cell_type": "code",
   "execution_count": 6,
   "id": "metallic-house",
   "metadata": {},
   "outputs": [
    {
     "name": "stderr",
     "output_type": "stream",
     "text": [
      "/usr/local/google/home/tasyrkin/.pyenv/versions/3.9.1/lib/python3.9/site-packages/IPython/core/inputtransformer2.py:484: UserWarning: `make_tokens_by_line` received a list of lines which do not have lineending markers ('\\n', '\\r', '\\r\\n', '\\x0b', '\\x0c'), behavior will be unspecified\n",
      "  warnings.warn(\"`make_tokens_by_line` received a list of lines which do not have lineending markers ('\\\\n', '\\\\r', '\\\\r\\\\n', '\\\\x0b', '\\\\x0c'), behavior will be unspecified\")\n"
     ]
    },
    {
     "data": {
      "text/plain": [
       "genre\n",
       "Crime                  20\n",
       "Action                 17\n",
       "Drama                  17\n",
       "Animation              10\n",
       "Adventure               9\n",
       "Drama                   8\n",
       "Comedy                  6\n",
       "Biography               5\n",
       "Western                 3\n",
       "Horror                  2\n",
       "Mystery                 2\n",
       "Comedy                  1\n",
       "Name: genre, dtype: int64"
      ]
     },
     "execution_count": 6,
     "metadata": {},
     "output_type": "execute_result"
    }
   ],
   "source": [
    "# How many movies are there per genre? ",
    "\n",
    "\n",
    "# dataframe provides 'groupby' function that groups values by a specific column(s)\n",
    "# on the 'groupby' result an aggregation function should be applied. The function can be any aggregation function including: count, mean, sum\n",
    "# (optional) the values can be sorted by 'sort_values' function that is equivalent to 'order by' in SQL\n",
    "\n",
    "df.groupby(['genre'])['genre'].agg('count').sort_values(ascending=False)"
   ]
  }
 ],
 "metadata": {
  "kernelspec": {
   "display_name": "Python 3",
   "language": "python",
   "name": "python3"
  },
  "language_info": {
   "codemirror_mode": {
    "name": "ipython",
    "version": 3
   },
   "file_extension": ".py",
   "mimetype": "text/x-python",
   "name": "python",
   "nbconvert_exporter": "python",
   "pygments_lexer": "ipython3",
   "version": "3.9.1"
  }
 },
 "nbformat": 4,
 "nbformat_minor": 5
}
