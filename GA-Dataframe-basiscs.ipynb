{
 "cells": [
  {
   "cell_type": "code",
   "execution_count": null,
   "id": "severe-foundation",
   "metadata": {},
   "outputs": [],
   "source": [
    "# NOTE: this notebook uses python3 (version 3.9.1)\n",
    "\n",
    "import pandas as pd\n",
    "\n",
    "# pandas provide a dataframe abstraction to help analyzing tabular data"
   ]
  },
  {
   "cell_type": "code",
   "execution_count": null,
   "id": "attached-vintage",
   "metadata": {},
   "outputs": [],
   "source": [
    "\n",
    "# Housekeeping: find out what is the current directory and adjust the path to the data file\n",
    "#import os\n",
    "#cwd = os.getcwd()\n",
    "#print ('working_directory = ' + cwd)\n",
    "\n",
    "# load data into the pandas dataframe (df)\n",
    "df = pd.read_csv(\"imdb_100.csv\")\n",
    "\n",
    "# get sense of a data in the df\n",
    "df.head()"
   ]
  },
  {
   "cell_type": "code",
   "execution_count": null,
   "id": "functioning-shell",
   "metadata": {},
   "outputs": [],
   "source": [
    "# How many rows and columns are in the dataset?\n",
    "\n",
    "# every panda's dataframe has a 'shape' property. A 'shape' is a tuple representing the dimensionality of the dataframe.\n",
    "# the first element is the number of rows\n",
    "# the second element is the number of columns\n",
    "\n",
    "num_rows = df.shape[0]\n",
    "num_cols = df.shape[1]\n",
    "print ('num_rows = {}, num_cols = {}'.format(num_rows, num_cols))"
   ]
  },
  {
   "cell_type": "code",
   "execution_count": null,
   "id": "macro-warrant",
   "metadata": {},
   "outputs": [],
   "source": [
    "# What are the column names?\n",
    "\n",
    "# a dataframe has a 'columns' property that contains the names of the df's columns\n",
    "\n",
    "print ('column_names = {}'.format(list(df.columns)))"
   ]
  },
  {
   "cell_type": "code",
   "execution_count": null,
   "id": "circular-undergraduate",
   "metadata": {},
   "outputs": [],
   "source": [
    "# How many unique genres are there?\n",
    "\n",
    "# it is possible to access every column through its name (very handy) \n",
    "# and apply functions against this column \n",
    "# including 'unique()' function that counts the number of unique values in that column\n",
    "\n",
    "print ('unique_genres = {}'.format(len(df.genre.unique())))"
   ]
  },
  {
   "cell_type": "code",
   "execution_count": null,
   "id": "according-recognition",
   "metadata": {},
   "outputs": [],
   "source": [
    "# How many movies are there per genre? ",
    "\n",
    "\n",
    "# dataframe provides 'groupby' function that groups values by a specific column(s)\n",
    "# on the 'groupby' result an aggregation function should be applied. The function can be any aggregation function including: count, mean, sum\n",
    "# (optional) the values can be sorted by 'sort_values' function that is equivalent to 'order by' in SQL\n",
    "\n",
    "df.groupby(['genre'])['genre'].agg('count').sort_values(ascending=False)"
   ]
  }
 ],
 "metadata": {
  "kernelspec": {
   "display_name": "Python 3",
   "language": "python",
   "name": "python3"
  },
  "language_info": {
   "codemirror_mode": {
    "name": "ipython",
    "version": 3
   },
   "file_extension": ".py",
   "mimetype": "text/x-python",
   "name": "python",
   "nbconvert_exporter": "python",
   "pygments_lexer": "ipython3",
   "version": "3.9.1"
  }
 },
 "nbformat": 4,
 "nbformat_minor": 5
}
